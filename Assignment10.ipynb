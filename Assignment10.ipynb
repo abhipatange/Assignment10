{
 "cells": [
  {
   "cell_type": "code",
   "execution_count": null,
   "id": "0f27b0d6-1850-420f-a23f-d8cd48faf318",
   "metadata": {},
   "outputs": [],
   "source": [
    "Q1. What is the curse of dimensionality reduction and why is it important in machine learning?"
   ]
  },
  {
   "cell_type": "code",
   "execution_count": null,
   "id": "465fcf24-95ec-4cea-b533-f932fe4a85de",
   "metadata": {},
   "outputs": [],
   "source": [
    "Ans = The curse of dimensionality basically refers to the difficulties a machine learning algorithm faces when working\n",
    "with data in the higher dimensions, that did not exist in the lower dimensions. \n",
    "This happens because when you add dimensions (features), the minimum data requirements also increase rapidly."
   ]
  },
  {
   "cell_type": "code",
   "execution_count": null,
   "id": "af13034c-5025-4bd1-9923-7dbd50fe62fd",
   "metadata": {},
   "outputs": [],
   "source": []
  },
  {
   "cell_type": "code",
   "execution_count": null,
   "id": "efd60724-01ab-4902-aaa3-f648e05ee844",
   "metadata": {},
   "outputs": [],
   "source": [
    "Q2. How does the curse of dimensionality impact the performance of machine learning algorithms?"
   ]
  },
  {
   "cell_type": "code",
   "execution_count": null,
   "id": "df78d27f-84ea-4c00-b715-5287fcf02949",
   "metadata": {},
   "outputs": [],
   "source": [
    "Ans = As the dimensionality increases, the number of data points required for good performance of\n",
    "any machine learning algorithm increases exponentially.\n",
    "The reason is that, we would need more number of data points for any given \n",
    "combination of features, for any machine learning model to be valid."
   ]
  },
  {
   "cell_type": "code",
   "execution_count": null,
   "id": "c1502236-b581-4187-a01b-2924bcf93a13",
   "metadata": {},
   "outputs": [],
   "source": []
  },
  {
   "cell_type": "code",
   "execution_count": null,
   "id": "644d2899-57c9-4f19-b36d-4bf6873764e8",
   "metadata": {},
   "outputs": [],
   "source": [
    "Q3. What are some of the consequences of the curse of dimensionality in machine learning, and how do\n",
    "they impact model performance?"
   ]
  },
  {
   "cell_type": "code",
   "execution_count": null,
   "id": "16a575f4-41ee-4d52-b9c2-9c12bef47e49",
   "metadata": {},
   "outputs": [],
   "source": [
    "Ans = As the dimensionality increases, the number of data points required for good performance of\n",
    "any machine learning algorithm increases exponentially.\n",
    "The reason is that, we would need more number of data points for any given combination of features, \n",
    "for any machine learning model to be valid."
   ]
  },
  {
   "cell_type": "code",
   "execution_count": null,
   "id": "baa0dde2-f814-4775-8031-b289d5d52d94",
   "metadata": {},
   "outputs": [],
   "source": []
  },
  {
   "cell_type": "code",
   "execution_count": null,
   "id": "77e08f1c-e564-4256-9aab-491dc0e74307",
   "metadata": {},
   "outputs": [],
   "source": [
    "Q4. Can you explain the concept of feature selection and how it can help with dimensionality reduction?"
   ]
  },
  {
   "cell_type": "code",
   "execution_count": null,
   "id": "010677ea-23de-433a-8695-1b87c5d8450a",
   "metadata": {},
   "outputs": [],
   "source": [
    "Ans = Feature Selection vs Dimensionality Reduction\n",
    "While both methods are used for reducing the number of features in a dataset,\n",
    "there is an important difference. \n",
    "Feature selection is simply selecting and excluding given features without changing them. \n",
    "Dimensionality reduction transforms features into a lower dimension."
   ]
  },
  {
   "cell_type": "code",
   "execution_count": null,
   "id": "7a3bcf96-765f-4ef7-a585-b7a79411b3e1",
   "metadata": {},
   "outputs": [],
   "source": []
  },
  {
   "cell_type": "code",
   "execution_count": null,
   "id": "fa34b704-72d4-44dd-8e97-e8a2eebab6d7",
   "metadata": {},
   "outputs": [],
   "source": [
    "Q5. What are some limitations and drawbacks of using dimensionality reduction techniques in machine\n",
    "learning?"
   ]
  },
  {
   "cell_type": "code",
   "execution_count": null,
   "id": "2fb7e18a-7365-416b-a2fb-3f1743388c4f",
   "metadata": {},
   "outputs": [],
   "source": [
    "Ans = We lost some data during the dimensionality reduction process, which can impact how well future training algorithms work.\n",
    "It may need a lot of processing power.\n",
    "Interpreting transformed characteristics might be challenging."
   ]
  },
  {
   "cell_type": "code",
   "execution_count": null,
   "id": "d8917014-d346-4f7c-934f-180129351c9b",
   "metadata": {},
   "outputs": [],
   "source": []
  },
  {
   "cell_type": "code",
   "execution_count": null,
   "id": "3b7a0e67-339c-45dc-b8c6-56e8d3d3ac4f",
   "metadata": {},
   "outputs": [],
   "source": [
    "Q6. How does the curse of dimensionality relate to overfitting and underfitting in machine learning?"
   ]
  },
  {
   "cell_type": "code",
   "execution_count": null,
   "id": "b9b81a84-2ad7-40f9-8fb4-473200a0af44",
   "metadata": {},
   "outputs": [],
   "source": [
    "Ans = Overfitting and Underfitting\n",
    "KNN is very susceptible to overfitting due to the curse of dimensionality. \n",
    "Curse of dimensionality also describes the phenomenon where the feature space\n",
    "becomes increasingly sparse for an increasing number of dimensions of a fixed-size training dataset."
   ]
  },
  {
   "cell_type": "code",
   "execution_count": null,
   "id": "84ea4094-c74a-47ca-b85a-83f1c49c1c68",
   "metadata": {},
   "outputs": [],
   "source": []
  },
  {
   "cell_type": "code",
   "execution_count": null,
   "id": "6909918b-a9c2-4417-9062-8c79a9125663",
   "metadata": {},
   "outputs": [],
   "source": [
    "Q7. How can one determine the optimal number of dimensions to reduce data to when using\n",
    "dimensionality reduction techniques?"
   ]
  },
  {
   "cell_type": "code",
   "execution_count": null,
   "id": "e2e9c25f-5d37-4e66-9d6d-cd1a3441d408",
   "metadata": {},
   "outputs": [],
   "source": [
    "Ans = Feature selection. \n",
    "Feature extraction. \n",
    "Principal Component Analysis (PCA).\n",
    "Non-negative matrix factorization (NMF).\n",
    "Linear discriminant analysis (LDA).\n",
    "Generalized discriminant analysis (GDA).\n",
    "Missing Values Ratio. \n",
    "Low Variance Filter."
   ]
  },
  {
   "cell_type": "code",
   "execution_count": null,
   "id": "a43adb13-0f70-47ba-a8a9-94987c344f83",
   "metadata": {},
   "outputs": [],
   "source": []
  }
 ],
 "metadata": {
  "kernelspec": {
   "display_name": "Python 3 (ipykernel)",
   "language": "python",
   "name": "python3"
  },
  "language_info": {
   "codemirror_mode": {
    "name": "ipython",
    "version": 3
   },
   "file_extension": ".py",
   "mimetype": "text/x-python",
   "name": "python",
   "nbconvert_exporter": "python",
   "pygments_lexer": "ipython3",
   "version": "3.10.8"
  }
 },
 "nbformat": 4,
 "nbformat_minor": 5
}
